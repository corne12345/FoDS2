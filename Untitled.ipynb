{
 "cells": [
  {
   "cell_type": "markdown",
   "metadata": {},
   "source": [
    "## Assignment 2: Well-being from Instagram data\n"
   ]
  },
  {
   "cell_type": "code",
   "execution_count": 4,
   "metadata": {},
   "outputs": [],
   "source": [
    "import pandas as pd\n",
    "import numpy as np\n",
    "import matplotlib.pyplot as plt\n",
    "from sklearn import linear_model\n",
    "from sklearn.metrics import mean_squared_error, r2_score\n",
    "from sklearn.model_selection import train_test_split\n",
    "from sklearn.linear_model import LinearRegression"
   ]
  },
  {
   "cell_type": "code",
   "execution_count": 5,
   "metadata": {},
   "outputs": [],
   "source": [
    "#Read the individual data frames\n",
    "anp_df = pd.read_pickle(r'Data/anp.pickle') \n",
    "face_df = pd.read_pickle(r'Data/face.pickle')\n",
    "image_df = pd.read_pickle(r'Data/image_data.pickle')\n",
    "metrics_df = pd.read_pickle(r'Data/image_metrics.pickle')\n",
    "object_labels_df = pd.read_pickle(r'Data/object_labels.pickle')\n",
    "survey_df = pd.read_pickle(r'Data/survey.pickle')"
   ]
  },
  {
   "cell_type": "code",
   "execution_count": 9,
   "metadata": {},
   "outputs": [],
   "source": [
    "# Merge them based on the image_id so that we have a large data frame containing all the elements\n",
    "image_anp_frame = pd.merge(image_df, anp_df, how='inner', on='image_id')\n",
    "im_anp_obj_frame = pd.merge(image_anp_frame, object_labels_df, how='inner', on='image_id')\n",
    "im_anp_obj_face_frame = pd.merge(im_anp_obj_frame, face_df, how='inner', on='image_id')\n",
    "im_anp_obj_face_metrics_frame = pd.merge(im_anp_obj_face_frame, metrics_df, how='inner', on='image_id')\n",
    "survey_df['insta_user_id'] = pd.to_numeric(survey_df['insta_user_id'])\n",
    "im_anp_obj_face_metrics_frame['user_id'] =  pd.to_numeric(im_anp_obj_face_metrics_frame['user_id'])\n",
    "total_df = pd.merge(im_anp_obj_face_metrics_frame, survey_df, how='left', left_on='user_id', right_on='insta_user_id')"
   ]
  },
  {
   "cell_type": "code",
   "execution_count": 14,
   "metadata": {},
   "outputs": [
    {
     "data": {
      "text/html": [
       "<div>\n",
       "<style scoped>\n",
       "    .dataframe tbody tr th:only-of-type {\n",
       "        vertical-align: middle;\n",
       "    }\n",
       "\n",
       "    .dataframe tbody tr th {\n",
       "        vertical-align: top;\n",
       "    }\n",
       "\n",
       "    .dataframe thead th {\n",
       "        text-align: right;\n",
       "    }\n",
       "</style>\n",
       "<table border=\"1\" class=\"dataframe\">\n",
       "  <thead>\n",
       "    <tr style=\"text-align: right;\">\n",
       "      <th></th>\n",
       "      <th>image_id</th>\n",
       "      <th>image_link</th>\n",
       "      <th>image_url</th>\n",
       "      <th>image_height</th>\n",
       "      <th>image_width</th>\n",
       "      <th>image_filter</th>\n",
       "      <th>image_posted_time_unix</th>\n",
       "      <th>image_posted_time</th>\n",
       "      <th>data_memorability</th>\n",
       "      <th>user_id</th>\n",
       "      <th>...</th>\n",
       "      <th>P</th>\n",
       "      <th>E</th>\n",
       "      <th>R</th>\n",
       "      <th>M</th>\n",
       "      <th>A</th>\n",
       "      <th>PERMA</th>\n",
       "      <th>N_EMO</th>\n",
       "      <th>P_EMO</th>\n",
       "      <th>imagecount</th>\n",
       "      <th>private_account</th>\n",
       "    </tr>\n",
       "  </thead>\n",
       "  <tbody>\n",
       "    <tr>\n",
       "      <th>0</th>\n",
       "      <td>552382455733335946_263042348</td>\n",
       "      <td>https://www.instagram.com/p/eqdOq2JLeK/</td>\n",
       "      <td>https://scontent.cdninstagram.com/t51.2885-15/...</td>\n",
       "      <td>612.0</td>\n",
       "      <td>612.0</td>\n",
       "      <td>Normal</td>\n",
       "      <td>1380069141</td>\n",
       "      <td>25-09-2013 00:32:21</td>\n",
       "      <td>0.875568</td>\n",
       "      <td>263042348</td>\n",
       "      <td>...</td>\n",
       "      <td>5.666667</td>\n",
       "      <td>6.0</td>\n",
       "      <td>6.0</td>\n",
       "      <td>6.666667</td>\n",
       "      <td>7.0</td>\n",
       "      <td>NaN</td>\n",
       "      <td>3.0</td>\n",
       "      <td>5.666667</td>\n",
       "      <td>73.0</td>\n",
       "      <td>public</td>\n",
       "    </tr>\n",
       "    <tr>\n",
       "      <th>1</th>\n",
       "      <td>552382455733335946_263042348</td>\n",
       "      <td>https://www.instagram.com/p/eqdOq2JLeK/</td>\n",
       "      <td>https://scontent.cdninstagram.com/t51.2885-15/...</td>\n",
       "      <td>612.0</td>\n",
       "      <td>612.0</td>\n",
       "      <td>Normal</td>\n",
       "      <td>1380069141</td>\n",
       "      <td>25-09-2013 00:32:21</td>\n",
       "      <td>0.875568</td>\n",
       "      <td>263042348</td>\n",
       "      <td>...</td>\n",
       "      <td>5.666667</td>\n",
       "      <td>6.0</td>\n",
       "      <td>6.0</td>\n",
       "      <td>6.666667</td>\n",
       "      <td>7.0</td>\n",
       "      <td>NaN</td>\n",
       "      <td>3.0</td>\n",
       "      <td>5.666667</td>\n",
       "      <td>73.0</td>\n",
       "      <td>public</td>\n",
       "    </tr>\n",
       "    <tr>\n",
       "      <th>2</th>\n",
       "      <td>552382455733335946_263042348</td>\n",
       "      <td>https://www.instagram.com/p/eqdOq2JLeK/</td>\n",
       "      <td>https://scontent.cdninstagram.com/t51.2885-15/...</td>\n",
       "      <td>612.0</td>\n",
       "      <td>612.0</td>\n",
       "      <td>Normal</td>\n",
       "      <td>1380069141</td>\n",
       "      <td>25-09-2013 00:32:21</td>\n",
       "      <td>0.875568</td>\n",
       "      <td>263042348</td>\n",
       "      <td>...</td>\n",
       "      <td>5.666667</td>\n",
       "      <td>6.0</td>\n",
       "      <td>6.0</td>\n",
       "      <td>6.666667</td>\n",
       "      <td>7.0</td>\n",
       "      <td>NaN</td>\n",
       "      <td>3.0</td>\n",
       "      <td>5.666667</td>\n",
       "      <td>73.0</td>\n",
       "      <td>public</td>\n",
       "    </tr>\n",
       "    <tr>\n",
       "      <th>3</th>\n",
       "      <td>552382455733335946_263042348</td>\n",
       "      <td>https://www.instagram.com/p/eqdOq2JLeK/</td>\n",
       "      <td>https://scontent.cdninstagram.com/t51.2885-15/...</td>\n",
       "      <td>612.0</td>\n",
       "      <td>612.0</td>\n",
       "      <td>Normal</td>\n",
       "      <td>1380069141</td>\n",
       "      <td>25-09-2013 00:32:21</td>\n",
       "      <td>0.875568</td>\n",
       "      <td>263042348</td>\n",
       "      <td>...</td>\n",
       "      <td>5.666667</td>\n",
       "      <td>6.0</td>\n",
       "      <td>6.0</td>\n",
       "      <td>6.666667</td>\n",
       "      <td>7.0</td>\n",
       "      <td>NaN</td>\n",
       "      <td>3.0</td>\n",
       "      <td>5.666667</td>\n",
       "      <td>73.0</td>\n",
       "      <td>public</td>\n",
       "    </tr>\n",
       "    <tr>\n",
       "      <th>4</th>\n",
       "      <td>552382455733335946_263042348</td>\n",
       "      <td>https://www.instagram.com/p/eqdOq2JLeK/</td>\n",
       "      <td>https://scontent.cdninstagram.com/t51.2885-15/...</td>\n",
       "      <td>612.0</td>\n",
       "      <td>612.0</td>\n",
       "      <td>Normal</td>\n",
       "      <td>1380069141</td>\n",
       "      <td>25-09-2013 00:32:21</td>\n",
       "      <td>0.875568</td>\n",
       "      <td>263042348</td>\n",
       "      <td>...</td>\n",
       "      <td>5.666667</td>\n",
       "      <td>6.0</td>\n",
       "      <td>6.0</td>\n",
       "      <td>6.666667</td>\n",
       "      <td>7.0</td>\n",
       "      <td>NaN</td>\n",
       "      <td>3.0</td>\n",
       "      <td>5.666667</td>\n",
       "      <td>73.0</td>\n",
       "      <td>public</td>\n",
       "    </tr>\n",
       "  </tbody>\n",
       "</table>\n",
       "<p>5 rows × 90 columns</p>\n",
       "</div>"
      ],
      "text/plain": [
       "                       image_id                               image_link  \\\n",
       "0  552382455733335946_263042348  https://www.instagram.com/p/eqdOq2JLeK/   \n",
       "1  552382455733335946_263042348  https://www.instagram.com/p/eqdOq2JLeK/   \n",
       "2  552382455733335946_263042348  https://www.instagram.com/p/eqdOq2JLeK/   \n",
       "3  552382455733335946_263042348  https://www.instagram.com/p/eqdOq2JLeK/   \n",
       "4  552382455733335946_263042348  https://www.instagram.com/p/eqdOq2JLeK/   \n",
       "\n",
       "                                           image_url  image_height  \\\n",
       "0  https://scontent.cdninstagram.com/t51.2885-15/...         612.0   \n",
       "1  https://scontent.cdninstagram.com/t51.2885-15/...         612.0   \n",
       "2  https://scontent.cdninstagram.com/t51.2885-15/...         612.0   \n",
       "3  https://scontent.cdninstagram.com/t51.2885-15/...         612.0   \n",
       "4  https://scontent.cdninstagram.com/t51.2885-15/...         612.0   \n",
       "\n",
       "   image_width image_filter image_posted_time_unix    image_posted_time  \\\n",
       "0        612.0       Normal             1380069141  25-09-2013 00:32:21   \n",
       "1        612.0       Normal             1380069141  25-09-2013 00:32:21   \n",
       "2        612.0       Normal             1380069141  25-09-2013 00:32:21   \n",
       "3        612.0       Normal             1380069141  25-09-2013 00:32:21   \n",
       "4        612.0       Normal             1380069141  25-09-2013 00:32:21   \n",
       "\n",
       "   data_memorability    user_id  ...         P    E    R         M    A  \\\n",
       "0           0.875568  263042348  ...  5.666667  6.0  6.0  6.666667  7.0   \n",
       "1           0.875568  263042348  ...  5.666667  6.0  6.0  6.666667  7.0   \n",
       "2           0.875568  263042348  ...  5.666667  6.0  6.0  6.666667  7.0   \n",
       "3           0.875568  263042348  ...  5.666667  6.0  6.0  6.666667  7.0   \n",
       "4           0.875568  263042348  ...  5.666667  6.0  6.0  6.666667  7.0   \n",
       "\n",
       "   PERMA  N_EMO     P_EMO imagecount  private_account  \n",
       "0    NaN    3.0  5.666667       73.0           public  \n",
       "1    NaN    3.0  5.666667       73.0           public  \n",
       "2    NaN    3.0  5.666667       73.0           public  \n",
       "3    NaN    3.0  5.666667       73.0           public  \n",
       "4    NaN    3.0  5.666667       73.0           public  \n",
       "\n",
       "[5 rows x 90 columns]"
      ]
     },
     "execution_count": 14,
     "metadata": {},
     "output_type": "execute_result"
    }
   ],
   "source": [
    "total_df.head()"
   ]
  },
  {
   "cell_type": "code",
   "execution_count": 40,
   "metadata": {},
   "outputs": [
    {
     "data": {
      "text/plain": [
       "Index(['image_id', 'image_link', 'image_url', 'image_height', 'image_width',\n",
       "       'image_filter', 'image_posted_time_unix', 'image_posted_time',\n",
       "       'data_memorability', 'user_id', 'user_full_name', 'user_name',\n",
       "       'user_website', 'user_profile_pic', 'user_bio', 'user_followed_by',\n",
       "       'user_follows', 'user_posted_photos', 'anp_label', 'anp_sentiment',\n",
       "       'emotion_score', 'emotion_label', 'data_amz_label',\n",
       "       'data_amz_label_confidence', 'face_id', 'face_gender',\n",
       "       'face_gender_confidence', 'face_age_range_high', 'face_age_range_low',\n",
       "       'face_sunglasses', 'face_beard', 'face_beard_confidence',\n",
       "       'face_mustache', 'face_mustache_confidence', 'face_smile',\n",
       "       'face_smile_confidence', 'eyeglasses', 'eyeglasses_confidence',\n",
       "       'face_emo', 'emo_confidence', 'comment_count',\n",
       "       'comment_count_time_created', 'like_count', 'like_count_time_created',\n",
       "       'index', 'id', 'gender', 'born', 'education', 'employed', 'income',\n",
       "       'A_2', 'N_1', 'P_1', 'E_1', 'A_1', 'H_1', 'M_1', 'R_1', 'M_2', 'E_2',\n",
       "       'LON', 'H_2', 'P_2', 'N_2', 'A_3', 'N_3', 'E_3', 'H_3', 'R_2', 'M_3',\n",
       "       'R_3', 'P_3', 'HAP', 'participate', 'insta_user_id', 'completed',\n",
       "       'start_q', 'end_q', 'network_id', 'P', 'E', 'R', 'M', 'A', 'PERMA',\n",
       "       'N_EMO', 'P_EMO', 'imagecount', 'private_account'],\n",
       "      dtype='object')"
      ]
     },
     "execution_count": 40,
     "metadata": {},
     "output_type": "execute_result"
    }
   ],
   "source": [
    "total_df.columns"
   ]
  },
  {
   "cell_type": "code",
   "execution_count": 73,
   "metadata": {},
   "outputs": [
    {
     "data": {
      "text/plain": [
       "array(['public'], dtype=object)"
      ]
     },
     "execution_count": 73,
     "metadata": {},
     "output_type": "execute_result"
    }
   ],
   "source": [
    "total_df['private_account'].unique()"
   ]
  },
  {
   "cell_type": "markdown",
   "metadata": {},
   "source": [
    "## Training linear model"
   ]
  },
  {
   "cell_type": "markdown",
   "metadata": {},
   "source": [
    "Steps to follow:\n",
    "- Data Cleaning\n",
    "- Selecting relevant features\n",
    "- Feature engineering (making features based on other features)\n",
    "\n",
    "Interesting features:\n",
    "- Orientation (image_height/image_width)\n",
    "- Image filter (one-hot encoding or classification according to media)\n",
    "- Data memorability\n",
    "- User_bio\n",
    "- User_follows, User_followed_by\n",
    "- Popularity (user_followed_by / user_follows)\n",
    "- user_posted_photos\n",
    "- anp_sentiment, label (beredening voor ordinaliteit nagaan?)\n",
    "- emotion_score, label (beredenering voor ordinaliteit nagaan?)\n",
    "- data_amz_label, data_amz_confidence (alles boven x% confidence, onderverdelen in categoriën)\n",
    "- Face_gender (gewogen voor confidence)\n",
    "- face_age_mean (face_age_range_high + face_age_range_low / 2)\n",
    "- face_sunglasses, face_beard, face_mustache, ...., emo_confidence\n",
    "- comment_count\n",
    "- like_count\n",
    "- gender \n",
    "- born\n",
    "- education\n",
    "- employed\n",
    "- income (cleaning nodig)\n",
    "- HAP\n",
    "- participate\n",
    "- end_q - start_q \n",
    "- imagecount\n",
    "- private_account boeit niet, want heeft maar 1 waarde\n",
    "\n",
    "Options:\n",
    "- Faces (minder samples, maar meer parameters), op basis van data_amz_label\n",
    "- Alle (meer samples, maar niet alle parameters)\n",
    "- Perma score valideren\n",
    "\n",
    "\n",
    "\n",
    "\n",
    "\n"
   ]
  },
  {
   "cell_type": "code",
   "execution_count": 152,
   "metadata": {},
   "outputs": [
    {
     "data": {
      "text/plain": [
       "array([26, 39, 41, 27, 22, 56, 25, 23, 45, 42, 32, 31, 40, 34, 33, 24, 28,\n",
       "       44, 35, 38, 49, 29, 37, 47, 30, 36, 59, 43, 50, 48, 55, 60, 61, 21],\n",
       "      dtype=int64)"
      ]
     },
     "execution_count": 152,
     "metadata": {},
     "output_type": "execute_result"
    }
   ],
   "source": [
    "# Iedere functie heeft als input total_df en new_df en returnt new_df\n",
    "def duration_questionnaire(new_df, total_df):\n",
    "    total_df['end_q'] = pd.to_datetime(total_df['end_q'])\n",
    "    total_df['start_q'] = pd.to_datetime(total_df['start_q'])\n",
    "    new_df['dur_quest'] = (total_df['end_q'] - total_df['start_q']).dt.total_seconds()\n",
    "    \n",
    "    return new_df\n",
    "\n",
    "def one_hot_encode (new_df, total_df, column = 'image_filter'):\n",
    "    new_df = pd.concat([new_df, pd.get_dummies(total_df['image_filter'])], axis=1)\n",
    "    return new_df\n",
    "\n",
    "def born_to_age (total_df, newdf):\n",
    "    newdf['age'] = - (total_df['born'] - 2019)\n",
    "    return newdf\n"
   ]
  },
  {
   "cell_type": "code",
   "execution_count": 189,
   "metadata": {},
   "outputs": [],
   "source": [
    "newdf = pd.DataFrame()\n",
    "newdf = duration_questionnaire(new_df, total_df)\n",
    "newdf = one_hot_encode(new_df, total_df)\n",
    "\n",
    "# total_df['end_q']"
   ]
  },
  {
   "cell_type": "code",
   "execution_count": 146,
   "metadata": {},
   "outputs": [
    {
     "name": "stdout",
     "output_type": "stream",
     "text": [
      "       dur_quest  1977  Aden  Amaro  Ashby  Brannan  Brooklyn  Charmes  \\\n",
      "25980       85.0     0     0      0      0        0         0        0   \n",
      "25981       85.0     0     0      0      0        0         0        0   \n",
      "25982       85.0     0     0      0      0        0         0        0   \n",
      "25983       85.0     0     0      0      0        0         0        0   \n",
      "25984       85.0     0     0      0      0        0         0        0   \n",
      "\n",
      "       Clarendon  Crema  ...  Slumber  Stinson  Sutro  Toaster  Unknown  \\\n",
      "25980          0      0  ...        0        0      0        0        0   \n",
      "25981          0      0  ...        0        0      0        0        0   \n",
      "25982          0      0  ...        0        0      0        0        0   \n",
      "25983          0      0  ...        0        0      0        0        0   \n",
      "25984          0      0  ...        0        0      0        0        0   \n",
      "\n",
      "       Valencia  Vesper  Walden  Willow  X-Pro II  \n",
      "25980         0       0       0       0         0  \n",
      "25981         0       0       0       0         0  \n",
      "25982         0       0       0       0         0  \n",
      "25983         0       0       0       0         0  \n",
      "25984         0       0       0       0         0  \n",
      "\n",
      "[5 rows x 45 columns]\n",
      "Variance score: 0.04\n",
      "Coefficients:\n",
      " [ 6.93896660e-04 -1.59559050e+00 -3.46743351e-01 -1.78126279e-01\n",
      " -3.80181995e-01 -2.91595883e-01 -9.87435006e-01  2.97311194e-01\n",
      "  2.09816639e-01  1.34802064e-01  8.95678651e-01 -7.42667316e-01\n",
      " -1.68830138e-01 -6.98540769e-01  1.71875562e+00  1.46533814e-01\n",
      " -2.04316346e-01  1.68772286e-01 -1.64463469e-02 -4.77270679e-02\n",
      "  4.27375092e-01 -3.21143030e-02  1.27888313e-01 -6.83721736e-02\n",
      "  1.70779097e+00  3.77893091e-01 -6.46115666e-01  1.00665493e-02\n",
      "  3.76650999e-01  3.44311178e-01  4.36260891e-01 -2.66539238e-02\n",
      "  5.99095496e-02 -3.66855325e-01 -6.02828988e-01 -9.48890730e-02\n",
      "  6.76956141e-01 -3.64905700e-01 -1.40291045e+00  2.55923310e-01\n",
      "  7.75973765e-04  2.70770311e-01  1.63262731e-01 -4.20042908e-02\n",
      "  4.98345521e-01]\n"
     ]
    }
   ],
   "source": [
    "def linear_regression(total_df, y):\n",
    "    total_df['y'] = y\n",
    "    total_df = total_df.dropna(axis=0)\n",
    "    y = total_df['y']\n",
    "    X = total_df.drop(columns=['y'])\n",
    "    X_train, X_test, y_train, y_test = train_test_split(X, y)\n",
    "    lr = LinearRegression().fit(X_train, y_train)\n",
    "    pred_y = lr.predict(X_test)\n",
    "    print('Variance score: %.2f' % r2_score(y_test, pred_y))\n",
    "    print('Coefficients:\\n', lr.coef_)\n",
    "    return\n",
    "\n",
    "linear_regression(newdf, total_df['PERMA'])"
   ]
  },
  {
   "cell_type": "code",
   "execution_count": 156,
   "metadata": {},
   "outputs": [],
   "source": [
    "def create_correlation_matrix(newdf):\n",
    "    return"
   ]
  },
  {
   "cell_type": "code",
   "execution_count": 196,
   "metadata": {},
   "outputs": [],
   "source": [
    "test = total_df.iloc[7]['income']\n",
    "\n",
    "def income_from_string(string):\n",
    "    new = ''.join([c for c in string if (c.isdigit() or c=='$')])\n",
    "    values = [int(i) for i in new.split('$') if len(i) > 0]\n",
    "    try:\n",
    "        average = sum(values)/len(values)\n",
    "    except:\n",
    "        average = 999999\n",
    "    return average\n",
    "\n",
    "def income_transform(newdf, total_df):\n",
    "    newdf['income'] = total_df['income'].apply(income_from_string)\n",
    "    return newdf"
   ]
  },
  {
   "cell_type": "code",
   "execution_count": 200,
   "metadata": {},
   "outputs": [
    {
     "data": {
      "text/plain": [
       "[24999.5,\n",
       " 34999.5,\n",
       " 94999.5,\n",
       " 44999.5,\n",
       " 14999.5,\n",
       " 150000.0,\n",
       " 54999.5,\n",
       " 84999.5,\n",
       " 10000.0,\n",
       " 124999.5,\n",
       " 74999.5,\n",
       " 999999.0,\n",
       " 64999.5]"
      ]
     },
     "execution_count": 200,
     "metadata": {},
     "output_type": "execute_result"
    }
   ],
   "source": [
    "newdf = income_transform(newdf, total_df)\n",
    "list(newdf['income'].unique())"
   ]
  }
 ],
 "metadata": {
  "kernelspec": {
   "display_name": "Python 3",
   "language": "python",
   "name": "python3"
  },
  "language_info": {
   "codemirror_mode": {
    "name": "ipython",
    "version": 3
   },
   "file_extension": ".py",
   "mimetype": "text/x-python",
   "name": "python",
   "nbconvert_exporter": "python",
   "pygments_lexer": "ipython3",
   "version": "3.7.3"
  }
 },
 "nbformat": 4,
 "nbformat_minor": 2
}
